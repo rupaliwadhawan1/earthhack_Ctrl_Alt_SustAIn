{
 "cells": [
  {
   "cell_type": "code",
   "execution_count": 23,
   "metadata": {},
   "outputs": [
    {
     "name": "stderr",
     "output_type": "stream",
     "text": [
      "[nltk_data] Error loading punkt: <urlopen error [SSL] unknown error\n",
      "[nltk_data]     (_ssl.c:1002)>\n",
      "[nltk_data] Error loading stopwords: <urlopen error [SSL] unknown\n",
      "[nltk_data]     error (_ssl.c:1002)>\n"
     ]
    },
    {
     "name": "stdout",
     "output_type": "stream",
     "text": [
      "Mean Squared Error: 0.1943146239399471\n"
     ]
    }
   ],
   "source": [
    "import pandas as pd\n",
    "import numpy as np\n",
    "from sklearn.model_selection import train_test_split\n",
    "from sklearn.feature_extraction.text import TfidfVectorizer\n",
    "from sklearn.ensemble import RandomForestRegressor\n",
    "from sklearn.multioutput import MultiOutputRegressor\n",
    "from sklearn.metrics import mean_squared_error\n",
    "import joblib\n",
    "import nltk\n",
    "from nltk.corpus import stopwords\n",
    "from nltk.tokenize import word_tokenize\n",
    "\n",
    "# Load dataset\n",
    "df = pd.read_csv('/Users/rupaliwadhawan/Downloads/new_df.csv')\n",
    "\n",
    "# Preprocess the text data (example: using problem column)\n",
    "nltk.download('punkt')\n",
    "nltk.download('stopwords')\n",
    "stop_words = set(stopwords.words('english'))\n",
    "\n",
    "def preprocess_text(text):\n",
    "    # Tokenize, remove stopwords and non-alphabetic words, lower case\n",
    "    tokens = word_tokenize(text)\n",
    "    tokens = [w.lower() for w in tokens if w.isalpha() and w not in stop_words]\n",
    "    return ' '.join(tokens)\n",
    "\n",
    "df['processed_text'] = df['problem'].apply(preprocess_text)\n",
    "df['processed_text'] = df['solution'].apply(preprocess_text)\n",
    "\n",
    "# Feature Extraction\n",
    "vectorizer = TfidfVectorizer(max_features=500)  # Adjust number of features\n",
    "X = vectorizer.fit_transform(df['processed_text']).toarray()\n",
    "\n",
    "# KPI scores as targets\n",
    "y = df[['Innovation and Feasibility', 'Resource Efficiency', 'Environmental Impact', 'Scalability and Adaptability']].values\n",
    "\n",
    "# Splitting the dataset into training and testing sets\n",
    "X_train, X_test, y_train, y_test = train_test_split(X, y, test_size=0.2, random_state=42)\n",
    "\n",
    "# Model Selection and Training\n",
    "model = MultiOutputRegressor(RandomForestRegressor(n_estimators=100, random_state=42))\n",
    "model.fit(X_train, y_train)\n",
    "\n",
    "# Model Evaluation\n",
    "y_pred = model.predict(X_test)\n",
    "mse = mean_squared_error(y_test, y_pred)\n",
    "print((f\"Root Mean Squared Error: {np.sqrt(mse)}\"))\n",
    "\n",
    "\n"
   ]
  },
  {
   "cell_type": "code",
   "execution_count": 24,
   "metadata": {},
   "outputs": [
    {
     "data": {
      "text/plain": [
       "['model.pkl']"
      ]
     },
     "execution_count": 24,
     "metadata": {},
     "output_type": "execute_result"
    }
   ],
   "source": [
    "# After fitting the vectorizer and training the model, save them to separate files\n",
    "joblib.dump(vectorizer, 'vectorizer.pkl')\n",
    "joblib.dump(model, 'model.pkl')\n"
   ]
  },
  {
   "cell_type": "code",
   "execution_count": 25,
   "metadata": {},
   "outputs": [],
   "source": [
    "def perform_simulation(initial_investment, resource_type, years):\n",
    "    # Constants for calculation (these would be based on real data or models in a real scenario)\n",
    "    resource_efficiency_factor = {'type1': 1.2, 'type2': 0.8}\n",
    "    environmental_impact_factor = {'type1': 0.5, 'type2': 1.5}\n",
    "    investment_impact = initial_investment * 0.0001  # Simplified impact factor\n",
    "\n",
    "    # Calculate resource efficiency and environmental impact\n",
    "    resource_efficiency = 100 * resource_efficiency_factor[resource_type] * investment_impact\n",
    "    environmental_impact = 100 / (environmental_impact_factor[resource_type] * investment_impact)\n",
    "\n",
    "    # Adjust for time\n",
    "    resource_efficiency *= (1 + 0.05 * years)  # 5% improvement per year\n",
    "    environmental_impact /= (1 + 0.03 * years)  # 3% reduction per year\n",
    "\n",
    "    # Ensure values are within a logical range\n",
    "    resource_efficiency = min(max(resource_efficiency, 0), 100)\n",
    "    environmental_impact = min(max(environmental_impact, 0), 100)\n",
    "\n",
    "    return {\n",
    "        'resource_efficiency': resource_efficiency,\n",
    "        'environmental_impact': environmental_impact\n",
    "    }"
   ]
  },
  {
   "cell_type": "code",
   "execution_count": 26,
   "metadata": {},
   "outputs": [],
   "source": [
    "from flask import request, jsonify\n",
    "def simulate():\n",
    "    # Extract parameters from request\n",
    "    initial_investment = 100000 \n",
    "    resource_type = 'res_type1'  # Assuming it's a single value\n",
    "    years = 5\n",
    "\n",
    "    # Perform calculations or model predictions\n",
    "    results = perform_simulation(initial_investment, resource_type, years)\n",
    "s\n"
   ]
  },
  {
   "cell_type": "code",
   "execution_count": 27,
   "metadata": {},
   "outputs": [
    {
     "ename": "NameError",
     "evalue": "name 'results' is not defined",
     "output_type": "error",
     "traceback": [
      "\u001b[0;31m---------------------------------------------------------------------------\u001b[0m",
      "\u001b[0;31mNameError\u001b[0m                                 Traceback (most recent call last)",
      "Cell \u001b[0;32mIn[27], line 1\u001b[0m\n\u001b[0;32m----> 1\u001b[0m results\n",
      "\u001b[0;31mNameError\u001b[0m: name 'results' is not defined"
     ]
    }
   ],
   "source": [
    "results\n"
   ]
  },
  {
   "cell_type": "code",
   "execution_count": null,
   "metadata": {},
   "outputs": [],
   "source": []
  }
 ],
 "metadata": {
  "kernelspec": {
   "display_name": "Python 3",
   "language": "python",
   "name": "python3"
  },
  "language_info": {
   "codemirror_mode": {
    "name": "ipython",
    "version": 3
   },
   "file_extension": ".py",
   "mimetype": "text/x-python",
   "name": "python",
   "nbconvert_exporter": "python",
   "pygments_lexer": "ipython3",
   "version": "3.11.3"
  },
  "orig_nbformat": 4
 },
 "nbformat": 4,
 "nbformat_minor": 2
}
